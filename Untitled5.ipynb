{
  "nbformat": 4,
  "nbformat_minor": 0,
  "metadata": {
    "colab": {
      "provenance": [],
      "authorship_tag": "ABX9TyOROlo9VO7odM8eJoVdt/rY",
      "include_colab_link": true
    },
    "kernelspec": {
      "name": "python3",
      "display_name": "Python 3"
    },
    "language_info": {
      "name": "python"
    }
  },
  "cells": [
    {
      "cell_type": "markdown",
      "metadata": {
        "id": "view-in-github",
        "colab_type": "text"
      },
      "source": [
        "<a href=\"https://colab.research.google.com/github/Sakthi0400J/SCT_DS_4/blob/main/Untitled5.ipynb\" target=\"_parent\"><img src=\"https://colab.research.google.com/assets/colab-badge.svg\" alt=\"Open In Colab\"/></a>"
      ]
    },
    {
      "cell_type": "markdown",
      "source": [
        "# **Visualizing Accident Hotspots**"
      ],
      "metadata": {
        "id": "VFS6eskE_oTH"
      }
    },
    {
      "cell_type": "code",
      "execution_count": null,
      "metadata": {
        "id": "bSK3HAaQ_QTY"
      },
      "outputs": [],
      "source": [
        "import folium\n",
        "import seaborn as sns\n",
        "import matplotlib.pyplot as plt\n",
        "import numpy as np\n",
        "from folium.plugins import MarkerCluster\n",
        "from folium.plugins import HeatMap\n",
        "import pandas as pd\n",
        "import webbrowser as wb\n",
        "\n",
        "df = pd.read_csv(\"ACCIDENTS(2016).txt\")\n",
        "\n",
        "\n",
        "\n",
        "\n",
        "map = folium.Map(location=[39.8283, -98.5795], zoom_start=4)\n",
        "marker_cluster = MarkerCluster().add_to(map)\n",
        "\n",
        "\n",
        "for idx, row in df.iterrows():\n",
        "    folium.Marker(\n",
        "        location=[row['Start_Lat'], row['Start_Lng']],\n",
        "        popup=f\"Accident ID: {idx}\",\n",
        "        icon=None\n",
        "    ).add_to(marker_cluster)\n",
        "\n",
        "\n",
        "\n",
        "heat_data = [[row['Start_Lat'], row['Start_Lng']] for idx, row in df.iterrows()]\n",
        "HeatMap(heat_data, radius=15).add_to(map)\n",
        "\n",
        "\n",
        "folium.LayerControl().add_to(map)\n",
        "\n",
        "\n",
        "map.save(\"accident_density_map.html\")\n",
        "print(\"Map saved as accident_density_map.html\")\n",
        "wb.open(\"accident_density_map.html\")\n",
        "map"
      ]
    },
    {
      "cell_type": "markdown",
      "source": [
        "# **Accident Frequency**"
      ],
      "metadata": {
        "id": "T8AfpIn3_0Wl"
      }
    },
    {
      "cell_type": "code",
      "source": [
        "df['Start_Time'] = pd.to_datetime(df['Start_Time'])\n",
        "df['Hour'] = df['Start_Time'].dt.hour\n",
        "\n",
        "\n",
        "hour = df['Hour'].value_counts()\n",
        "hour = hour.sort_index()\n",
        "hour.plot(kind = 'bar', color = 'red',title='Accident Frequency')\n"
      ],
      "metadata": {
        "id": "eZMCCVGu_nHx"
      },
      "execution_count": null,
      "outputs": []
    },
    {
      "cell_type": "code",
      "source": [
        "count = df['Severity'].value_counts()\n",
        "\n",
        "plt.figure(figsize=(8, 8))\n",
        "plt.pie(count, labels=count.index)\n",
        "plt.title('Proportion of Accidents by Severity Level')\n",
        "\n",
        "plt.show()"
      ],
      "metadata": {
        "id": "CZ_mRvpIImvj"
      },
      "execution_count": null,
      "outputs": []
    },
    {
      "cell_type": "markdown",
      "source": [
        "# **Statistical Analysis**"
      ],
      "metadata": {
        "id": "owKqILE9FWdB"
      }
    },
    {
      "cell_type": "code",
      "source": [
        "sns.pairplot(df,vars = ['Start_Time','Severity','Hour'])\n",
        ""
      ],
      "metadata": {
        "id": "R9awhvumBsvR"
      },
      "execution_count": null,
      "outputs": []
    },
    {
      "cell_type": "code",
      "source": [
        "df['Day'] = df['Start_Time'].dt.day_name()\n",
        "features_df = df[['Hour', 'Severity']]\n",
        "correlation_matrix = features_df.corr(method='pearson')\n",
        "plt.figure(figsize=(8, 6))\n",
        "sns.heatmap(correlation_matrix, annot=True, cmap='coolwarm', fmt=\".2f\")\n",
        "plt.title(\"Correlation Heatmap of Hour and Severity\")\n",
        "plt.show()\n"
      ],
      "metadata": {
        "id": "ISyx4g9UEyMu"
      },
      "execution_count": null,
      "outputs": []
    }
  ]
}